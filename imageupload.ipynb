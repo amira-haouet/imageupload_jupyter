{
 "cells": [
  {
   "cell_type": "code",
   "execution_count": null,
   "id": "dd60837c",
   "metadata": {},
   "outputs": [],
   "source": []
  },
  {
   "cell_type": "code",
   "execution_count": 4,
   "id": "d4223c0e",
   "metadata": {},
   "outputs": [],
   "source": [
    "## the image should be in same folder as the project ipynb notebook\n",
    "\n",
    "import tkinter as tk\n",
    "import cv2\n",
    "import matplotlib.pyplot as plt\n",
    "from tkinter import *\n",
    "from tkinter import filedialog\n",
    "from tkinter.filedialog import askopenfile\n",
    "from PIL import Image, ImageTk\n",
    "import os.path\n",
    "from os.path import splitext, basename\n",
    "from urllib.parse import urlparse\n",
    "from urllib.parse import urlparse\n",
    "\n",
    "#tkinter window\n",
    "my_w = tk.Tk()\n",
    "my_w.geometry(\"410x300\")  # Size of the window \n",
    "my_font1=('times', 18, 'bold')\n",
    "my_w.configure(bg='black')\n",
    "l1 = tk.Label(my_w,text='Upload Files & display',width=30,font=my_font1)  \n",
    "l1.grid(row=1,column=1,columnspan=4)\n",
    "b1 = tk.Button(my_w, text='Upload Files',bg='black', fg='white',\n",
    "   width=20,command = lambda:upload_file())\n",
    "b1.grid(row=2,column=1,columnspan=4)\n",
    "\n",
    "\n",
    "\n",
    "def upload_file():\n",
    "    f_types = [('Jpg Files', '*.jpg'),('PNG Files','*.png')]   # type of files to select png or jpg\n",
    "    filename = tk.filedialog.askopenfilename(multiple=False,filetypes=f_types) ### if u want to display more than image put multiple=true ###\n",
    "    picture_page = filename\n",
    "    disassembled = urlparse(picture_page)\n",
    "    filena, file_ext = splitext(basename(disassembled.path))\n",
    "    #--------------------------\n",
    "    \n",
    "    #extract the image name\n",
    "    img1=\"\"+filena+\"\"+file_ext\n",
    "    print(img1)\n",
    "    \n",
    "    img11=cv2.imread(img1)\n",
    "    plt.imshow(img11)\n",
    "    col=1 # start from column 1\n",
    "    row=3 # start from row 3 \n",
    "    \n",
    "    f = filename\n",
    "    img=Image.open(f) # read the image file\n",
    "    img=img.resize((100,100)) # new width & height\n",
    "    img=ImageTk.PhotoImage(img)\n",
    "    e1 =tk.Label(my_w)\n",
    "    e1.grid(row=row,column=col)\n",
    "    e1.image = img\n",
    "    e1['image']=img # garbage collection   \n",
    "    \n",
    "my_w.mainloop()  # Keep the window open"
   ]
  },
  {
   "cell_type": "code",
   "execution_count": null,
   "id": "fdd533d8",
   "metadata": {},
   "outputs": [],
   "source": []
  },
  {
   "cell_type": "code",
   "execution_count": null,
   "id": "49d5a25a",
   "metadata": {},
   "outputs": [],
   "source": []
  }
 ],
 "metadata": {
  "kernelspec": {
   "display_name": "Python 3 (ipykernel)",
   "language": "python",
   "name": "python3"
  },
  "language_info": {
   "codemirror_mode": {
    "name": "ipython",
    "version": 3
   },
   "file_extension": ".py",
   "mimetype": "text/x-python",
   "name": "python",
   "nbconvert_exporter": "python",
   "pygments_lexer": "ipython3",
   "version": "3.9.7"
  }
 },
 "nbformat": 4,
 "nbformat_minor": 5
}
