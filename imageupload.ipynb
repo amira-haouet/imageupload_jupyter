{
 "cells": [
  {
   "cell_type": "code",
   "execution_count": 4,
   "id": "d4223c0e",
   "metadata": {},
   "outputs": [
    {
     "name": "stdout",
     "output_type": "stream",
     "text": [
      "\n"
     ]
    },
    {
     "name": "stderr",
     "output_type": "stream",
     "text": [
      "Exception in Tkinter callback\n",
      "Traceback (most recent call last):\n",
      "  File \"C:\\Users\\MSI\\anaconda3\\lib\\tkinter\\__init__.py\", line 1892, in __call__\n",
      "    return self.func(*args)\n",
      "  File \"C:\\Users\\MSI\\AppData\\Local\\Temp/ipykernel_19180/2782470865.py\", line 20, in <lambda>\n",
      "    width=20,command = lambda:upload_file())\n",
      "  File \"C:\\Users\\MSI\\AppData\\Local\\Temp/ipykernel_19180/2782470865.py\", line 33, in upload_file\n",
      "    plt.imshow(img11)\n",
      "  File \"C:\\Users\\MSI\\anaconda3\\lib\\site-packages\\matplotlib\\pyplot.py\", line 2903, in imshow\n",
      "    __ret = gca().imshow(\n",
      "  File \"C:\\Users\\MSI\\anaconda3\\lib\\site-packages\\matplotlib\\__init__.py\", line 1361, in inner\n",
      "    return func(ax, *map(sanitize_sequence, args), **kwargs)\n",
      "  File \"C:\\Users\\MSI\\anaconda3\\lib\\site-packages\\matplotlib\\axes\\_axes.py\", line 5609, in imshow\n",
      "    im.set_data(X)\n",
      "  File \"C:\\Users\\MSI\\anaconda3\\lib\\site-packages\\matplotlib\\image.py\", line 700, in set_data\n",
      "    raise TypeError(\"Image data of dtype {} cannot be converted to \"\n",
      "TypeError: Image data of dtype object cannot be converted to float\n"
     ]
    },
    {
     "data": {
      "image/png": "[encoded data removed]",
      "text/plain": [
       "<Figure size 432x288 with 1 Axes>"
      ]
     },
     "metadata": {
      "needs_background": "light"
     },
     "output_type": "display_data"
    }
   ],
   "source": [
    "import tkinter as tk\n",
    "import cv2\n",
    "import matplotlib.pyplot as plt\n",
    "from tkinter import *\n",
    "from tkinter import filedialog\n",
    "from tkinter.filedialog import askopenfile\n",
    "from PIL import Image, ImageTk\n",
    "import os.path\n",
    "from os.path import splitext, basename\n",
    "from urllib.parse import urlparse\n",
    "from urllib.parse import urlparse\n",
    "\n",
    "my_w = tk.Tk()\n",
    "my_w.geometry(\"410x300\")  # Size of the window \n",
    "my_w.title('www.plus2net.com')\n",
    "my_font1=('times', 18, 'bold')\n",
    "l1 = tk.Label(my_w,text='Upload Files & display',width=30,font=my_font1)  \n",
    "l1.grid(row=1,column=1,columnspan=4)\n",
    "b1 = tk.Button(my_w, text='Upload Files', \n",
    "   width=20,command = lambda:upload_file())\n",
    "b1.grid(row=2,column=1,columnspan=4)\n",
    "\n",
    "def upload_file():\n",
    "    f_types = [('Jpg Files', '*.jpg'),('PNG Files','*.png')]   # type of files to select \n",
    "    filename = tk.filedialog.askopenfilename(multiple=False,filetypes=f_types)\n",
    "    picture_page = filename\n",
    "    disassembled = urlparse(picture_page)\n",
    "    filena, file_ext = splitext(basename(disassembled.path))\n",
    "    #--------------------------\n",
    "    img1=\"\"+filena+\"\"+file_ext\n",
    "    print(img1)\n",
    "    img11=cv2.imread(img1)\n",
    "    plt.imshow(img11)\n",
    "    img=Image.open(f) # read the image file\n",
    "    img=img.resize((100,100)) # new width & height\n",
    "    img=ImageTk.PhotoImage(img)\n",
    "    e1 =tk.Label(my_w)\n",
    "    e1.grid(row=row,column=col)\n",
    "    e1.image = img\n",
    "    e1['image']=img # garbage collection   \n",
    "my_w.mainloop()  # Keep the window open"
   ]
  },
  {
   "cell_type": "code",
   "execution_count": null,
   "id": "fdd533d8",
   "metadata": {},
   "outputs": [],
   "source": []
  },
  {
   "cell_type": "code",
   "execution_count": null,
   "id": "49d5a25a",
   "metadata": {},
   "outputs": [],
   "source": []
  }
 ],
 "metadata": {
  "kernelspec": {
   "display_name": "Python 3 (ipykernel)",
   "language": "python",
   "name": "python3"
  },
  "language_info": {
   "codemirror_mode": {
    "name": "ipython",
    "version": 3
   },
   "file_extension": ".py",
   "mimetype": "text/x-python",
   "name": "python",
   "nbconvert_exporter": "python",
   "pygments_lexer": "ipython3",
   "version": "3.9.7"
  }
 },
 "nbformat": 4,
 "nbformat_minor": 5
}
